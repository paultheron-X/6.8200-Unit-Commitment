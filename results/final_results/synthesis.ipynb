{
 "cells": [
  {
   "cell_type": "code",
   "execution_count": 2,
   "metadata": {},
   "outputs": [
    {
     "name": "stdout",
     "output_type": "stream",
     "text": [
      "-----------------------------------\n",
      "Guided tree search: a3c, 5gen\n",
      "-----------------------------------\n",
      "Average reward: 263429.46649534564\n",
      "Std reward: 39076.7093088466\n",
      "Runtime: average 5.337179481983185s, range [4.125601530075073s - 8.846865177154541]s\n",
      "-----------------------------------\n",
      "Guided tree search: a3c, 10gen\n",
      "-----------------------------------\n",
      "Average reward: 530964.2289544459\n",
      "Std reward: 79556.52628021748\n",
      "Runtime: average 5.6841268062591555s, range [4.494379758834839s - 7.437553882598877]s\n",
      "-----------------------------------\n",
      "Guided tree search: ppo_async, 5gen\n",
      "-----------------------------------\n",
      "Average reward: 230649.65762320007\n",
      "Std reward: 38617.684288073746\n",
      "Runtime: average 36.823246240615845s, range [10.525583028793335s - 240.42957496643066]s\n",
      "-----------------------------------\n",
      "Guided tree search: ppo_async, 10gen\n",
      "-----------------------------------\n",
      "Average reward: 514979.1657987287\n",
      "Std reward: 105403.83272039755\n",
      "Runtime: average 12.487366461753846s, range [7.35333514213562s - 16.70573902130127]s\n",
      "-----------------------------------\n",
      "Unguided tree search: 5gen\n",
      "-----------------------------------\n",
      "Average reward: 234536.9255195159\n",
      "Std reward: 39348.95098074872\n",
      "Runtime: average 78.63604011535645s, range [30.635233163833618s - 122.19449543952942]s\n"
     ]
    },
    {
     "ename": "FileNotFoundError",
     "evalue": "[Errno 2] No such file or directory: '/Users/paultheron/Desktop/Dossiers/1_Scolarite/4_MIT/SpringPeriod/6.8200_Sensorimotor/6.8200-Unit-Commitment/results/final_results/unguided_tree_search/10gen/test_20/1/results_gen_20.json'",
     "output_type": "error",
     "traceback": [
      "\u001b[0;31m---------------------------------------------------------------------------\u001b[0m",
      "\u001b[0;31mFileNotFoundError\u001b[0m                         Traceback (most recent call last)",
      "Cell \u001b[0;32mIn[2], line 19\u001b[0m\n\u001b[1;32m     17\u001b[0m \u001b[39m# Unguided tree search\u001b[39;00m\n\u001b[1;32m     18\u001b[0m \u001b[39mfor\u001b[39;00m num_gen \u001b[39min\u001b[39;00m [\u001b[39m5\u001b[39m,\u001b[39m10\u001b[39m]:\n\u001b[0;32m---> 19\u001b[0m     results \u001b[39m=\u001b[39m json\u001b[39m.\u001b[39mload(\u001b[39mopen\u001b[39;49m(os\u001b[39m.\u001b[39;49mpath\u001b[39m.\u001b[39;49mjoin(final_results_folder, \u001b[39m'\u001b[39;49m\u001b[39munguided_tree_search\u001b[39;49m\u001b[39m'\u001b[39;49m, \u001b[39mf\u001b[39;49m\u001b[39m'\u001b[39;49m\u001b[39m{\u001b[39;49;00mnum_gen\u001b[39m}\u001b[39;49;00m\u001b[39mgen/test_20/1/results_gen_20.json\u001b[39;49m\u001b[39m'\u001b[39;49m)))\n\u001b[1;32m     20\u001b[0m     \u001b[39mprint\u001b[39m(\u001b[39m'\u001b[39m\u001b[39m-----------------------------------\u001b[39m\u001b[39m'\u001b[39m)\n\u001b[1;32m     21\u001b[0m     \u001b[39mprint\u001b[39m(\u001b[39mf\u001b[39m\u001b[39m'\u001b[39m\u001b[39mUnguided tree search: \u001b[39m\u001b[39m{\u001b[39;00mnum_gen\u001b[39m}\u001b[39;00m\u001b[39mgen\u001b[39m\u001b[39m'\u001b[39m)\n",
      "File \u001b[0;32m~/.local/lib/python3.9/site-packages/IPython/core/interactiveshell.py:284\u001b[0m, in \u001b[0;36m_modified_open\u001b[0;34m(file, *args, **kwargs)\u001b[0m\n\u001b[1;32m    277\u001b[0m \u001b[39mif\u001b[39;00m file \u001b[39min\u001b[39;00m {\u001b[39m0\u001b[39m, \u001b[39m1\u001b[39m, \u001b[39m2\u001b[39m}:\n\u001b[1;32m    278\u001b[0m     \u001b[39mraise\u001b[39;00m \u001b[39mValueError\u001b[39;00m(\n\u001b[1;32m    279\u001b[0m         \u001b[39mf\u001b[39m\u001b[39m\"\u001b[39m\u001b[39mIPython won\u001b[39m\u001b[39m'\u001b[39m\u001b[39mt let you open fd=\u001b[39m\u001b[39m{\u001b[39;00mfile\u001b[39m}\u001b[39;00m\u001b[39m by default \u001b[39m\u001b[39m\"\u001b[39m\n\u001b[1;32m    280\u001b[0m         \u001b[39m\"\u001b[39m\u001b[39mas it is likely to crash IPython. If you know what you are doing, \u001b[39m\u001b[39m\"\u001b[39m\n\u001b[1;32m    281\u001b[0m         \u001b[39m\"\u001b[39m\u001b[39myou can use builtins\u001b[39m\u001b[39m'\u001b[39m\u001b[39m open.\u001b[39m\u001b[39m\"\u001b[39m\n\u001b[1;32m    282\u001b[0m     )\n\u001b[0;32m--> 284\u001b[0m \u001b[39mreturn\u001b[39;00m io_open(file, \u001b[39m*\u001b[39;49margs, \u001b[39m*\u001b[39;49m\u001b[39m*\u001b[39;49mkwargs)\n",
      "\u001b[0;31mFileNotFoundError\u001b[0m: [Errno 2] No such file or directory: '/Users/paultheron/Desktop/Dossiers/1_Scolarite/4_MIT/SpringPeriod/6.8200_Sensorimotor/6.8200-Unit-Commitment/results/final_results/unguided_tree_search/10gen/test_20/1/results_gen_20.json'"
     ]
    }
   ],
   "source": [
    "import os\n",
    "import json\n",
    "import numpy as np\n",
    "# Fetch all results_gen_20.json from the current working directory and print them\n",
    "\n",
    "final_results_folder = os.getcwd()\n",
    "# Guided tree search\n",
    "for file in os.listdir(os.path.join(final_results_folder, 'guided_tree_search')):\n",
    "    for num_gen in [5,10]:\n",
    "        results = json.load(open(os.path.join(final_results_folder, 'guided_tree_search', file, f'{num_gen}gen/test_20/1/results_gen_20.json')))\n",
    "        print('-----------------------------------')\n",
    "        print(f'Guided tree search: {file}, {num_gen}gen')\n",
    "        print('-----------------------------------')\n",
    "        print(f'Average reward: {np.mean(results[\"cost\"])}')\n",
    "        print(f'Std reward: {np.std(results[\"cost\"])}')\n",
    "        print(f'Runtime: average {np.mean(results[\"time\"])}s, range [{np.min(results[\"time\"])}s - {np.max(results[\"time\"])}]s')\n",
    "# Unguided tree search\n",
    "for num_gen in [5,10]:\n",
    "    results = json.load(open(os.path.join(final_results_folder, 'unguided_tree_search', f'{num_gen}gen/test_20/1/results_gen_20.json')))\n",
    "    print('-----------------------------------')\n",
    "    print(f'Unguided tree search: {num_gen}gen')\n",
    "    print('-----------------------------------')\n",
    "    print(f'Average reward: {np.mean(results[\"cost\"])}')\n",
    "    print(f'Std reward: {np.std(results[\"cost\"])}')\n",
    "    print(f'Runtime: average {np.mean(results[\"time\"])}s, range [{np.min(results[\"time\"])}s - {np.max(results[\"time\"])}]s')"
   ]
  },
  {
   "attachments": {},
   "cell_type": "markdown",
   "metadata": {},
   "source": [
    "### Results for the forest runs\n"
   ]
  },
  {
   "cell_type": "code",
   "execution_count": 8,
   "metadata": {},
   "outputs": [
    {
     "name": "stdout",
     "output_type": "stream",
     "text": [
      "\n",
      "-----------------------------------\n",
      "Guided tree forest search: 50 trees, ppo_async, 5gen, max_min, box\n",
      "-----------------------------------\n",
      "Average reward: 246136.4346182452\n",
      "Std reward: 59009.15690686696\n",
      "Runtime: average 182.0726833462715s, range [75.83296203613281s - 306.82368087768555]s\n",
      "\n",
      "-----------------------------------\n",
      "Guided tree forest search: 50 trees, ppo_async, 5gen, max_min, auto\n",
      "-----------------------------------\n",
      "Average reward: 230230.53964680308\n",
      "Std reward: 39307.934048531395\n",
      "Runtime: average 149.23924413919448s, range [75.35105895996094s - 223.5863001346588]s\n",
      "\n",
      "-----------------------------------\n",
      ">>>>Guided tree forest search: 10 trees, ppo_async, 5gen, max_avg, auto not found\n",
      "-----------------------------------\n",
      "\n",
      "-----------------------------------\n",
      "Guided tree forest search: 10 trees, ppo_async, 5gen, max_min, box\n",
      "-----------------------------------\n",
      "Average reward: 251143.46981427824\n",
      "Std reward: 71291.07729691589\n",
      "Runtime: average 34.406820344924924s, range [18.25018286705017s - 54.180569887161255]s\n",
      "\n",
      "-----------------------------------\n",
      "Guided tree forest search: 10 trees, ppo_async, 5gen, max_min, auto\n",
      "-----------------------------------\n",
      "Average reward: 234203.4098027674\n",
      "Std reward: 40778.11987183678\n",
      "Runtime: average 33.489981782436374s, range [17.213809728622437s - 54.19545602798462]s\n",
      "\n",
      "-----------------------------------\n",
      "Guided tree forest search: 100 trees, ppo_async, 5gen, max_min, box\n",
      "-----------------------------------\n",
      "Average reward: 348162.1347580749\n",
      "Std reward: 341497.8528979341\n",
      "Runtime: average 326.7528874874115s, range [113.16770911216736s - 504.0489990711212]s\n",
      "\n",
      "-----------------------------------\n",
      "Guided tree forest search: 100 trees, ppo_async, 5gen, max_min, auto\n",
      "-----------------------------------\n",
      "Average reward: 236945.48110460947\n",
      "Std reward: 54229.589946079745\n",
      "Runtime: average 331.6562180519104s, range [172.3504340648651s - 511.6705050468445]s\n"
     ]
    }
   ],
   "source": [
    "# do that on the guided forest search\n",
    "final_results_folder = os.getcwd()\n",
    "\n",
    "for num_tree in os.listdir(os.path.join(final_results_folder, 'guided_forest')):\n",
    "    for algo in os.listdir(os.path.join(final_results_folder, 'guided_forest', num_tree)):\n",
    "        for num_gen in [elem.split('gen')[0] for elem in os.listdir(os.path.join(final_results_folder, 'guided_forest', num_tree, algo))]:\n",
    "            for action_name in [elem.split('action_')[1] for elem in os.listdir(os.path.join(final_results_folder, 'guided_forest', num_tree, algo, f'{num_gen}gen'))]:\n",
    "                for obs_corrupter in [elem.split('obs_')[1] for elem in os.listdir(os.path.join(final_results_folder, 'guided_forest', num_tree, algo, f'{num_gen}gen', f'action_{action_name}'))]:\n",
    "                    # read the json file\n",
    "                    try:\n",
    "                        results = json.load(open(os.path.join(final_results_folder, 'guided_forest', num_tree, algo, f'{num_gen}gen', f'action_{action_name}', f'obs_{obs_corrupter}', 'test_20', '1', 'results_gen_20.json')))\n",
    "                        print('\\n-----------------------------------')\n",
    "                        print(f'Guided tree forest search: {num_tree} trees, {algo}, {num_gen}gen, {action_name}, {obs_corrupter}')\n",
    "                        print('-----------------------------------')\n",
    "                        print(f'Average reward: {np.mean(results[\"cost\"])}')\n",
    "                        print(f'Std reward: {np.std(results[\"cost\"])}')\n",
    "                        print(f'Runtime: average {np.mean(results[\"time\"])}s, range [{np.min(results[\"time\"])}s - {np.max(results[\"time\"])}]s')\n",
    "                    except FileNotFoundError:\n",
    "                        print('\\n-----------------------------------')\n",
    "                        print(f'>>>>Guided tree forest search: {num_tree} trees, {algo}, {num_gen}gen, {action_name}, {obs_corrupter} not found')\n",
    "                        print('-----------------------------------')\n",
    "                        pass\n",
    "                    "
   ]
  },
  {
   "cell_type": "code",
   "execution_count": null,
   "metadata": {},
   "outputs": [],
   "source": []
  }
 ],
 "metadata": {
  "kernelspec": {
   "display_name": "ucrl",
   "language": "python",
   "name": "python3"
  },
  "language_info": {
   "codemirror_mode": {
    "name": "ipython",
    "version": 3
   },
   "file_extension": ".py",
   "mimetype": "text/x-python",
   "name": "python",
   "nbconvert_exporter": "python",
   "pygments_lexer": "ipython3",
   "version": "3.9.16"
  },
  "orig_nbformat": 4
 },
 "nbformat": 4,
 "nbformat_minor": 2
}
