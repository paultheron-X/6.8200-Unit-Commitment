{
 "cells": [
  {
   "cell_type": "code",
   "execution_count": 17,
   "metadata": {},
   "outputs": [
    {
     "name": "stdout",
     "output_type": "stream",
     "text": [
      "-----------------------------------\n",
      "Guided tree search: a3c, 5gen\n",
      "-----------------------------------\n",
      "Average reward: 263429.46649534564\n",
      "Std reward: 39076.7093088466\n",
      "Runtime: average 5.337179481983185s, range [4.125601530075073s - 8.846865177154541]s\n",
      "-----------------------------------\n",
      "Guided tree search: a3c, 10gen\n",
      "-----------------------------------\n",
      "Average reward: 530964.2289544459\n",
      "Std reward: 79556.52628021748\n",
      "Runtime: average 5.6841268062591555s, range [4.494379758834839s - 7.437553882598877]s\n",
      "-----------------------------------\n",
      "Guided tree search: ppo_async, 5gen\n",
      "-----------------------------------\n",
      "Average reward: 230649.65762320007\n",
      "Std reward: 38617.684288073746\n",
      "Runtime: average 36.823246240615845s, range [10.525583028793335s - 240.42957496643066]s\n",
      "-----------------------------------\n",
      "Guided tree search: ppo_async, 10gen\n",
      "-----------------------------------\n",
      "Average reward: 514979.1657987287\n",
      "Std reward: 105403.83272039755\n",
      "Runtime: average 12.487366461753846s, range [7.35333514213562s - 16.70573902130127]s\n",
      "-----------------------------------\n",
      "Unguided tree search: 5gen\n",
      "-----------------------------------\n",
      "Average reward: 234536.9255195159\n",
      "Std reward: 39348.95098074872\n",
      "Runtime: average 78.63604011535645s, range [30.635233163833618s - 122.19449543952942]s\n"
     ]
    },
    {
     "ename": "FileNotFoundError",
     "evalue": "[Errno 2] No such file or directory: '/Users/vchester/Documents/school/MBAn/6.8200/6.8200-Unit-Commitment/results/final_results/unguided_tree_search/10gen/test_20/1/results_gen_20.json'",
     "output_type": "error",
     "traceback": [
      "\u001b[0;31m---------------------------------------------------------------------------\u001b[0m",
      "\u001b[0;31mFileNotFoundError\u001b[0m                         Traceback (most recent call last)",
      "Cell \u001b[0;32mIn[17], line 19\u001b[0m\n\u001b[1;32m     17\u001b[0m \u001b[39m# Unguided tree search\u001b[39;00m\n\u001b[1;32m     18\u001b[0m \u001b[39mfor\u001b[39;00m num_gen \u001b[39min\u001b[39;00m [\u001b[39m5\u001b[39m,\u001b[39m10\u001b[39m]:\n\u001b[0;32m---> 19\u001b[0m     results \u001b[39m=\u001b[39m json\u001b[39m.\u001b[39mload(\u001b[39mopen\u001b[39;49m(os\u001b[39m.\u001b[39;49mpath\u001b[39m.\u001b[39;49mjoin(final_results_folder, \u001b[39m'\u001b[39;49m\u001b[39munguided_tree_search\u001b[39;49m\u001b[39m'\u001b[39;49m, \u001b[39mf\u001b[39;49m\u001b[39m'\u001b[39;49m\u001b[39m{\u001b[39;49;00mnum_gen\u001b[39m}\u001b[39;49;00m\u001b[39mgen/test_20/1/results_gen_20.json\u001b[39;49m\u001b[39m'\u001b[39;49m)))\n\u001b[1;32m     20\u001b[0m     \u001b[39mprint\u001b[39m(\u001b[39m'\u001b[39m\u001b[39m-----------------------------------\u001b[39m\u001b[39m'\u001b[39m)\n\u001b[1;32m     21\u001b[0m     \u001b[39mprint\u001b[39m(\u001b[39mf\u001b[39m\u001b[39m'\u001b[39m\u001b[39mUnguided tree search: \u001b[39m\u001b[39m{\u001b[39;00mnum_gen\u001b[39m}\u001b[39;00m\u001b[39mgen\u001b[39m\u001b[39m'\u001b[39m)\n",
      "File \u001b[0;32m/opt/anaconda3/envs/ucrl/lib/python3.8/site-packages/IPython/core/interactiveshell.py:284\u001b[0m, in \u001b[0;36m_modified_open\u001b[0;34m(file, *args, **kwargs)\u001b[0m\n\u001b[1;32m    277\u001b[0m \u001b[39mif\u001b[39;00m file \u001b[39min\u001b[39;00m {\u001b[39m0\u001b[39m, \u001b[39m1\u001b[39m, \u001b[39m2\u001b[39m}:\n\u001b[1;32m    278\u001b[0m     \u001b[39mraise\u001b[39;00m \u001b[39mValueError\u001b[39;00m(\n\u001b[1;32m    279\u001b[0m         \u001b[39mf\u001b[39m\u001b[39m\"\u001b[39m\u001b[39mIPython won\u001b[39m\u001b[39m'\u001b[39m\u001b[39mt let you open fd=\u001b[39m\u001b[39m{\u001b[39;00mfile\u001b[39m}\u001b[39;00m\u001b[39m by default \u001b[39m\u001b[39m\"\u001b[39m\n\u001b[1;32m    280\u001b[0m         \u001b[39m\"\u001b[39m\u001b[39mas it is likely to crash IPython. If you know what you are doing, \u001b[39m\u001b[39m\"\u001b[39m\n\u001b[1;32m    281\u001b[0m         \u001b[39m\"\u001b[39m\u001b[39myou can use builtins\u001b[39m\u001b[39m'\u001b[39m\u001b[39m open.\u001b[39m\u001b[39m\"\u001b[39m\n\u001b[1;32m    282\u001b[0m     )\n\u001b[0;32m--> 284\u001b[0m \u001b[39mreturn\u001b[39;00m io_open(file, \u001b[39m*\u001b[39;49margs, \u001b[39m*\u001b[39;49m\u001b[39m*\u001b[39;49mkwargs)\n",
      "\u001b[0;31mFileNotFoundError\u001b[0m: [Errno 2] No such file or directory: '/Users/vchester/Documents/school/MBAn/6.8200/6.8200-Unit-Commitment/results/final_results/unguided_tree_search/10gen/test_20/1/results_gen_20.json'"
     ]
    }
   ],
   "source": [
    "import os\n",
    "import json\n",
    "import numpy as np\n",
    "# Fetch all results_gen_20.json from the current working directory and print them\n",
    "\n",
    "final_results_folder = os.getcwd()\n",
    "# Guided tree search\n",
    "for file in os.listdir(os.path.join(final_results_folder, 'guided_tree_search')):\n",
    "    for num_gen in [5,10]:\n",
    "        results = json.load(open(os.path.join(final_results_folder, 'guided_tree_search', file, f'{num_gen}gen/test_20/1/results_gen_20.json')))\n",
    "        print('-----------------------------------')\n",
    "        print(f'Guided tree search: {file}, {num_gen}gen')\n",
    "        print('-----------------------------------')\n",
    "        print(f'Average reward: {np.mean(results[\"cost\"])}')\n",
    "        print(f'Std reward: {np.std(results[\"cost\"])}')\n",
    "        print(f'Runtime: average {np.mean(results[\"time\"])}s, range [{np.min(results[\"time\"])}s - {np.max(results[\"time\"])}]s')\n",
    "# Unguided tree search\n",
    "for num_gen in [5,10]:\n",
    "    results = json.load(open(os.path.join(final_results_folder, 'unguided_tree_search', f'{num_gen}gen/test_20/1/results_gen_20.json')))\n",
    "    print('-----------------------------------')\n",
    "    print(f'Unguided tree search: {num_gen}gen')\n",
    "    print('-----------------------------------')\n",
    "    print(f'Average reward: {np.mean(results[\"cost\"])}')\n",
    "    print(f'Std reward: {np.std(results[\"cost\"])}')\n",
    "    print(f'Runtime: average {np.mean(results[\"time\"])}s, range [{np.min(results[\"time\"])}s - {np.max(results[\"time\"])}]s')"
   ]
  },
  {
   "cell_type": "code",
   "execution_count": 7,
   "metadata": {},
   "outputs": [
    {
     "data": {
      "text/plain": [
       "dict_keys(['cost', 'lost_loads', 'period_time', 'profile', 'schedule', 'time'])"
      ]
     },
     "execution_count": 7,
     "metadata": {},
     "output_type": "execute_result"
    }
   ],
   "source": [
    "results.keys()"
   ]
  },
  {
   "cell_type": "code",
   "execution_count": null,
   "metadata": {},
   "outputs": [],
   "source": []
  }
 ],
 "metadata": {
  "kernelspec": {
   "display_name": "ucrl",
   "language": "python",
   "name": "python3"
  },
  "language_info": {
   "codemirror_mode": {
    "name": "ipython",
    "version": 3
   },
   "file_extension": ".py",
   "mimetype": "text/x-python",
   "name": "python",
   "nbconvert_exporter": "python",
   "pygments_lexer": "ipython3",
   "version": "3.8.16"
  },
  "orig_nbformat": 4
 },
 "nbformat": 4,
 "nbformat_minor": 2
}
